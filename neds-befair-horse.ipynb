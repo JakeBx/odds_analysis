{
 "cells": [
  {
   "cell_type": "code",
   "execution_count": null,
   "metadata": {},
   "outputs": [],
   "source": [
    "# turn this into app"
   ]
  },
  {
   "cell_type": "code",
   "execution_count": 1,
   "metadata": {},
   "outputs": [],
   "source": [
    "%load_ext autoreload\n",
    "%autoreload 2\n",
    "\n",
    "import requests, bs4, re\n",
    "import time, os\n",
    "import json\n",
    "import re\n",
    "import pandas as pd\n",
    "from selenium import webdriver\n",
    "from selenium.webdriver.chrome.options import Options \n",
    "from selenium.webdriver.support.ui import WebDriverWait\n",
    "from selenium.webdriver.support import expected_conditions as EC\n",
    "from selenium.webdriver.common.by import By\n",
    "from selenium.common.exceptions import TimeoutException\n",
    "import ipywidgets as widgets\n",
    "from IPython.display import display\n",
    "from IPython.display import clear_output\n",
    "import numpy as np\n",
    "\n",
    "# from scraper import betfair, neds\n"
   ]
  },
  {
   "cell_type": "code",
   "execution_count": 2,
   "metadata": {},
   "outputs": [],
   "source": [
    "STAKE = 25\n",
    "COMM = 0.06"
   ]
  },
  {
   "cell_type": "code",
   "execution_count": 7,
   "metadata": {
    "lines_to_next_cell": 0
   },
   "outputs": [],
   "source": [
    "silk = re.compile('\\([\\d]+\\)')"
   ]
  },
  {
   "cell_type": "code",
   "execution_count": 8,
   "metadata": {},
   "outputs": [],
   "source": [
    "def beteasy(driver):\n",
    "    html_be = driver.page_source\n",
    "    soup = bs4.BeautifulSoup(html_be, 'html.parser')\n",
    "\n",
    "    lines = [x for x in soup.find_all('div', {'class': 'RunnerRow__runnerRow--D1PmI'})]\n",
    "    spans = []\n",
    "    for line in lines:\n",
    "        spans.append([x.text for x in line.find_all('span') if x.text not in ['Market Mover', 'FAV', 'EW']])\n",
    "    be_df = pd.DataFrame(spans)\n",
    "    be_df = be_df.set_index(1)\n",
    "    print(be_df.shape[1])\n",
    "    n_cols = be_df.shape[1]\n",
    "    if n_cols == 12:\n",
    "        be_df = be_df[[be_df.columns[-4], be_df.columns[-2]]]\n",
    "    else:\n",
    "        be_df = be_df[[be_df.columns[-3], be_df.columns[-1]]]\n",
    "    be_df.columns = ['back', 'place']\n",
    "    be_df.back = be_df.back.astype(float)\n",
    "    be_df.place = be_df.place.astype(float)\n",
    "    \n",
    "    return be_df"
   ]
  },
  {
   "cell_type": "code",
   "execution_count": 21,
   "metadata": {},
   "outputs": [],
   "source": [
    "def betfair(driver):\n",
    "    html_betfair = driver.page_source\n",
    "    soup = bs4.BeautifulSoup(html_betfair)\n",
    "    racing_table = soup.find_all('table')\n",
    "    tar_table = np.argmax([len(x.find_all('tr')) for x in racing_table])\n",
    "    \n",
    "    \n",
    "    rows = []\n",
    "    for row in racing_table[tar_table].find_all('tr'):\n",
    "        rows.append([x.text for x  in row.find_all('div')])\n",
    "\n",
    "    bf_df = pd.DataFrame(rows).dropna()\n",
    "    if bf_df.shape[1] == 16:\n",
    "        bf_df['silk'] = bf_df[5].apply(lambda x: silk.findall(x)[0])\n",
    "    else:\n",
    "        bf_df['silk'] = bf_df[6].apply(lambda x: silk.findall(x)[0])\n",
    "    bf_df = bf_df.set_index('silk')\n",
    "    bf_df = bf_df[[bf_df.columns[-6], bf_df.columns[-3]]]\n",
    "    bf_df.columns = ['back_bf', 'lay']\n",
    "    bf_df.back_bf = bf_df.back_bf.apply(lambda x: x.split(' ')[0]).astype(float)\n",
    "    bf_df.lay = bf_df.lay.apply(lambda x: x.split(' ')[0]).astype(float)\n",
    "\n",
    "    \n",
    "    return bf_df"
   ]
  },
  {
   "cell_type": "code",
   "execution_count": 3,
   "metadata": {},
   "outputs": [],
   "source": [
    "chrome_options = Options()\n",
    "# chrome_options.add_argument(\"--headless\")\n",
    "# chrome_options.add_argument(\"--window-size=1920x1080\")\n",
    "\n",
    "browser = webdriver.Chrome(options=chrome_options)\n",
    "browser.set_window_size(1920, 1080)\n",
    "browser2 = webdriver.Chrome(options=chrome_options)\n",
    "browser2.set_window_size(1920, 1080)"
   ]
  },
  {
   "cell_type": "code",
   "execution_count": 4,
   "metadata": {},
   "outputs": [],
   "source": [
    "nds = 'https://beteasy.com.au/racing-betting'\n",
    "bf = 'https://www.betfair.com.au/exchange/plus/horse-racing/next'\n",
    "browser.get(nds)\n",
    "browser2.get(bf)"
   ]
  },
  {
   "cell_type": "markdown",
   "metadata": {},
   "source": [
    "## Manually Navigate to desired race"
   ]
  },
  {
   "cell_type": "code",
   "execution_count": 24,
   "metadata": {},
   "outputs": [],
   "source": [
    "def main(neds_df, df_bf):\n",
    "    final_df = neds_df.join(df_bf, how='outer')\n",
    "    final_df = final_df[['back', 'lay', 'back_bf', 'place']]\n",
    "    for c in ['back', 'lay', 'back_bf']:\n",
    "        final_df[c] = final_df[c].apply(float)\n",
    "\n",
    "    final_df['EV_noback'] = (STAKE * final_df.back - STAKE) * 1/final_df.back_bf + (0.7 * STAKE - STAKE) * (1 / final_df.place - 1/final_df.back_bf) + -STAKE * (1 - 1/final_df.place)\n",
    "    final_df['EV_half'] = (STAKE * final_df.back - STAKE - STAKE/2 * (final_df.lay-1)) * 1/final_df.back_bf + (0.7 * STAKE - STAKE + STAKE/2 * (1 - COMM)) * (1 / final_df.place - 1/final_df.back_bf) + (-STAKE + STAKE/2 * (1 - COMM)) * (1 - 1/final_df.place)\n",
    "    final_df['BB'] = (final_df.back - 1) / (final_df.lay - COMM) * STAKE\n",
    "    final_df['BB_liability'] = (final_df.lay - 1) * STAKE\n",
    "\n",
    "    return final_df[final_df.lay != 0]#.sort_values('EV_half', ascending=False)"
   ]
  },
  {
   "cell_type": "code",
   "execution_count": 26,
   "metadata": {},
   "outputs": [
    {
     "data": {
      "application/vnd.jupyter.widget-view+json": {
       "model_id": "0e0c6e42b95c4b0f9b923330672163e1",
       "version_major": 2,
       "version_minor": 0
      },
      "text/plain": [
       "Button(description='Run/Refresh', style=ButtonStyle())"
      ]
     },
     "metadata": {},
     "output_type": "display_data"
    },
    {
     "data": {
      "application/vnd.jupyter.widget-view+json": {
       "model_id": "5efda4bf442648768401f102336862f2",
       "version_major": 2,
       "version_minor": 0
      },
      "text/plain": [
       "Button(description='Close', style=ButtonStyle())"
      ]
     },
     "metadata": {},
     "output_type": "display_data"
    },
    {
     "data": {
      "application/vnd.jupyter.widget-view+json": {
       "model_id": "a003b649fd6d4d3287198bb8b60b4fed",
       "version_major": 2,
       "version_minor": 0
      },
      "text/plain": [
       "Output()"
      ]
     },
     "metadata": {},
     "output_type": "display_data"
    }
   ],
   "source": [
    "button = widgets.Button(description=\"Run/Refresh\")\n",
    "button_cl = widgets.Button(description=\"Close\")\n",
    "display(button)\n",
    "display(button_cl)\n",
    "out = widgets.Output()\n",
    "\n",
    "@out.capture()\n",
    "def on_button_clicked(b):\n",
    "    # final_df = neds_df.merge(df_bf, how='outer', on='num')\n",
    "#     neds_df = neds(browser)\n",
    "    be_df = beteasy(browser)\n",
    "    df_bf = betfair(browser2)\n",
    "    df = main(be_df, df_bf)\n",
    "    \n",
    "    clear_output()\n",
    "    display(df)\n",
    "    display(df[df.EV_noback > 5])\n",
    "    display(df[df.BB > 18])\n",
    "    \n",
    "    \n",
    "def close(b):\n",
    "    browser.close()\n",
    "    browser2.close()\n",
    "\n",
    "button.on_click(on_button_clicked)\n",
    "button_cl.on_click(close)\n",
    "out"
   ]
  },
  {
   "cell_type": "code",
   "execution_count": null,
   "metadata": {},
   "outputs": [],
   "source": []
  }
 ],
 "metadata": {
  "jupytext": {
   "formats": "ipynb,py:light"
  },
  "kernelspec": {
   "display_name": "betfair",
   "language": "python",
   "name": "betfair"
  },
  "language_info": {
   "codemirror_mode": {
    "name": "ipython",
    "version": 3
   },
   "file_extension": ".py",
   "mimetype": "text/x-python",
   "name": "python",
   "nbconvert_exporter": "python",
   "pygments_lexer": "ipython3",
   "version": "3.6.9"
  }
 },
 "nbformat": 4,
 "nbformat_minor": 4
}
