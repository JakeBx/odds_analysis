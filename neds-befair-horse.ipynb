{
 "cells": [
  {
   "cell_type": "code",
   "execution_count": 1,
   "metadata": {},
   "outputs": [],
   "source": [
    "# turn this into app"
   ]
  },
  {
   "cell_type": "code",
   "execution_count": 2,
   "metadata": {},
   "outputs": [],
   "source": [
    "%load_ext autoreload\n",
    "%autoreload 2\n",
    "\n",
    "import requests, bs4, re\n",
    "import time, os\n",
    "import psycopg2, json\n",
    "import re\n",
    "import pandas as pd\n",
    "from selenium import webdriver\n",
    "from selenium.webdriver.chrome.options import Options \n",
    "from selenium.webdriver.support.ui import WebDriverWait\n",
    "from selenium.webdriver.support import expected_conditions as EC\n",
    "from selenium.webdriver.common.by import By\n",
    "from selenium.common.exceptions import TimeoutException\n",
    "import ipywidgets as widgets\n",
    "from IPython.display import display\n",
    "from IPython.display import clear_output\n",
    "\n",
    "from scraper import betfair, neds\n"
   ]
  },
  {
   "cell_type": "code",
   "execution_count": 3,
   "metadata": {},
   "outputs": [],
   "source": [
    "STAKE = 50\n",
    "COMM = 0.06"
   ]
  },
  {
   "cell_type": "code",
   "execution_count": 4,
   "metadata": {},
   "outputs": [],
   "source": [
    "chrome_options = Options()\n",
    "# chrome_options.add_argument(\"--headless\")\n",
    "# chrome_options.add_argument(\"--window-size=1920x1080\")\n",
    "\n",
    "browser = webdriver.Chrome(executable_path='/Users/jake/Downloads/chromedriver', options=chrome_options)\n",
    "browser.set_window_size(1920, 1080)\n",
    "browser2 = webdriver.Chrome(executable_path='/Users/jake/Downloads/chromedriver', options=chrome_options)\n",
    "browser2.set_window_size(1920, 1080)"
   ]
  },
  {
   "cell_type": "code",
   "execution_count": 5,
   "metadata": {},
   "outputs": [],
   "source": [
    "nds = 'https://www.neds.com.au/racing/'\n",
    "bf = 'https://www.betfair.com.au/exchange/plus/horse-racing/next'\n",
    "browser.get(nds)\n",
    "browser2.get(bf)"
   ]
  },
  {
   "cell_type": "markdown",
   "metadata": {},
   "source": [
    "## Manually Navigate to desired race"
   ]
  },
  {
   "cell_type": "code",
   "execution_count": 6,
   "metadata": {},
   "outputs": [],
   "source": [
    "def main(neds_df, df_bf):\n",
    "    final_df = neds_df.join(df_bf, how='outer')\n",
    "    final_df = final_df[['num', 'runner', 'back', 'lay', 'lay_vol', 'back_bf', 'back_vol', 'place', 'flucs']]\n",
    "    for c in ['back', 'lay', 'back_bf', 'place']:\n",
    "        final_df[c] = final_df[c].apply(float)\n",
    "\n",
    "    final_df['EV_noback'] = (STAKE * final_df.back - STAKE) * 1/final_df.back_bf + (0.7 * STAKE - STAKE) * (1 / final_df.place - 1/final_df.back_bf) + -STAKE * (1 - 1/final_df.place)\n",
    "    final_df['EV_half'] = (STAKE * final_df.back - STAKE - STAKE/2 * (final_df.lay-1)) * 1/final_df.back_bf + (0.7 * STAKE - STAKE + STAKE/2 * (1 - COMM)) * (1 / final_df.place - 1/final_df.back_bf) + (-STAKE + STAKE/2 * (1 - COMM)) * (1 - 1/final_df.place)\n",
    "\n",
    "    return final_df[final_df.lay != 0].sort_values('EV_half', ascending=False)"
   ]
  },
  {
   "cell_type": "code",
   "execution_count": 7,
   "metadata": {},
   "outputs": [
    {
     "data": {
      "application/vnd.jupyter.widget-view+json": {
       "model_id": "ef58db767e4b4ebeb7c788e8107d276f",
       "version_major": 2,
       "version_minor": 0
      },
      "text/plain": [
       "Button(description='Run/Refresh', style=ButtonStyle())"
      ]
     },
     "metadata": {},
     "output_type": "display_data"
    },
    {
     "data": {
      "application/vnd.jupyter.widget-view+json": {
       "model_id": "604c0d13af3c4b81ad10d0f54dd1ae76",
       "version_major": 2,
       "version_minor": 0
      },
      "text/plain": [
       "Button(description='Close', style=ButtonStyle())"
      ]
     },
     "metadata": {},
     "output_type": "display_data"
    },
    {
     "data": {
      "application/vnd.jupyter.widget-view+json": {
       "model_id": "02d1da8e10c34efd8714d0e224bb4ada",
       "version_major": 2,
       "version_minor": 0
      },
      "text/plain": [
       "Output()"
      ]
     },
     "metadata": {},
     "output_type": "display_data"
    }
   ],
   "source": [
    "button = widgets.Button(description=\"Run/Refresh\")\n",
    "button_cl = widgets.Button(description=\"Close\")\n",
    "display(button)\n",
    "display(button_cl)\n",
    "out = widgets.Output()\n",
    "\n",
    "@out.capture()\n",
    "def on_button_clicked(b):\n",
    "    # final_df = neds_df.merge(df_bf, how='outer', on='num')\n",
    "    neds_df = neds(browser)\n",
    "    df_bf = betfair(browser2)\n",
    "    df = main(neds_df, df_bf)\n",
    "    \n",
    "    clear_output()\n",
    "    display(df)\n",
    "    \n",
    "def close(b):\n",
    "    browser.close()\n",
    "    browser2.close()\n",
    "\n",
    "button.on_click(on_button_clicked)\n",
    "button_cl.on_click(close)\n",
    "out"
   ]
  },
  {
   "cell_type": "code",
   "execution_count": 8,
   "metadata": {
    "lines_to_next_cell": 0
   },
   "outputs": [],
   "source": [
    "# silk = re.compile('\\([\\d]+\\)')\n",
    "\n",
    "# html_neds = browser.page_source\n",
    "# df_list = pd.read_html(html_neds)\n",
    "# if df_list[0].shape[1] == 11:\n",
    "#     neds_df = df_list[0].iloc[:,:4].dropna().reset_index(drop=True)\n",
    "#     neds_df.columns = ['runner', 'mi', 'flucs', 'odds']\n",
    "# if df_list[0].shape[1] == 14:\n",
    "#     neds_df = df_list[0].iloc[:,:4].dropna().reset_index(drop=True)\n",
    "#     neds_df.columns = ['runner', 'best_time', 'flucs', 'odds']\n",
    "# else:\n",
    "#     neds_df = df_list[0].iloc[:,:3].dropna().reset_index(drop=True)\n",
    "#     neds_df.columns = ['runner', 'flucs', 'odds']    \n",
    "\n",
    "# neds_df['back'] = neds_df.odds.apply(lambda x: x.split(' ')[0])\n",
    "# neds_df['place'] = neds_df.odds.apply(lambda x: x.split(' ')[1])\n",
    "# neds_df.drop('odds', axis=1, inplace=True)\n",
    "\n",
    "# neds_df['num'] = neds_df.runner.apply(lambda x: silk.findall(x)[0])\n",
    "\n",
    "# neds_df"
   ]
  },
  {
   "cell_type": "code",
   "execution_count": null,
   "metadata": {
    "lines_to_next_cell": 2
   },
   "outputs": [],
   "source": []
  }
 ],
 "metadata": {
  "jupytext": {
   "formats": "ipynb,py:light"
  },
  "kernelspec": {
   "display_name": "Python 3",
   "language": "python",
   "name": "python3"
  },
  "language_info": {
   "codemirror_mode": {
    "name": "ipython",
    "version": 3
   },
   "file_extension": ".py",
   "mimetype": "text/x-python",
   "name": "python",
   "nbconvert_exporter": "python",
   "pygments_lexer": "ipython3",
   "version": "3.6.9"
  }
 },
 "nbformat": 4,
 "nbformat_minor": 4
}
